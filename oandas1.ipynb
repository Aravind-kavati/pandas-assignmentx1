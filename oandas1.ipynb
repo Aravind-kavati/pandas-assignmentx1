{
 "cells": [
  {
   "cell_type": "code",
   "execution_count": 1,
   "id": "4dc49eb4-3f3b-4ce6-8648-06f1f1fd17f8",
   "metadata": {},
   "outputs": [],
   "source": [
    "import pandas as pd"
   ]
  },
  {
   "cell_type": "markdown",
   "id": "3636053d-4989-40e9-98d5-549c4d7f8c73",
   "metadata": {},
   "source": [
    "Q1. Create a Pandas Series that contains the following data: 4, 8, 15, 16, 23, and 42. Then, print the series."
   ]
  },
  {
   "cell_type": "code",
   "execution_count": 6,
   "id": "05f4a1f1-cba4-4193-a7c4-fa5dd6cbceef",
   "metadata": {},
   "outputs": [
    {
     "name": "stdout",
     "output_type": "stream",
     "text": [
      "0     4\n",
      "1     8\n",
      "2    15\n",
      "3    16\n",
      "4    23\n",
      "5    42\n",
      "dtype: int64\n",
      "<class 'pandas.core.series.Series'>\n"
     ]
    }
   ],
   "source": [
    "data=[4, 8, 15, 16, 23, 42]\n",
    "s=pd.Series(data)\n",
    "print(s)\n",
    "print(type(s))"
   ]
  },
  {
   "cell_type": "markdown",
   "id": "7b25ecee-1804-43ae-97e4-b3d97e30dbb3",
   "metadata": {},
   "source": [
    "Q2. Create a variable of list type containing 10 elements in it, and apply pandas.Series function on the\n",
    "variable print it.\n"
   ]
  },
  {
   "cell_type": "code",
   "execution_count": 7,
   "id": "8f937ead-5a67-4c9b-a119-b46019a50939",
   "metadata": {},
   "outputs": [
    {
     "name": "stdout",
     "output_type": "stream",
     "text": [
      "0      1\n",
      "1      2\n",
      "2      3\n",
      "3      4\n",
      "4      5\n",
      "5      6\n",
      "6      7\n",
      "7     89\n",
      "8     99\n",
      "9    100\n",
      "dtype: int64\n"
     ]
    }
   ],
   "source": [
    "L=[1,2,3,4,5,6,7,89,99,100]\n",
    "series=pd.Series(L)\n",
    "print(series)"
   ]
  },
  {
   "cell_type": "code",
   "execution_count": 17,
   "id": "9701b5b9-77ea-43e6-8ba9-2437cb63f123",
   "metadata": {},
   "outputs": [
    {
     "name": "stdout",
     "output_type": "stream",
     "text": [
      "     Name  Age  Gender\n",
      "0   Alice   25  Female\n",
      "1     Bob   30    Male\n",
      "2  Claire   27  Female\n"
     ]
    }
   ],
   "source": [
    "##3ans\n",
    "data={\n",
    "    'Name':['Alice','Bob','Claire'],\n",
    "    'Age':[25,30,27],\n",
    "    'Gender':['Female','Male','Female'],\n",
    "     }\n",
    "Data=pd.DataFrame(data)\n",
    "print(Data)"
   ]
  },
  {
   "cell_type": "markdown",
   "id": "7667fe14-79bc-4731-9280-acf1b07785ff",
   "metadata": {},
   "source": [
    "\n",
    "Q4. What is ‘DataFrame’ in pandas and how is it different from pandas.series? Explain with an example."
   ]
  },
  {
   "cell_type": "code",
   "execution_count": 23,
   "id": "6f9a20ec-509f-4a15-95c7-c00c94a6f694",
   "metadata": {},
   "outputs": [
    {
     "name": "stdout",
     "output_type": "stream",
     "text": [
      "0    25\n",
      "1    30\n",
      "2    27\n",
      "dtype: int64\n",
      "     Name  Age  Gender\n",
      "0   Alice   25  Female\n",
      "1     Bob   30    Male\n",
      "2  Claire   27  Female\n"
     ]
    }
   ],
   "source": [
    "## series one dimensional structure \n",
    "## Dataframe is two dimensionl labelled structure\n",
    "age=[25,30,27]\n",
    "print(pd.Series(age))\n",
    "print(pd.DataFrame(\n",
    "      { 'Name':['Alice','Bob','Claire'],\n",
    "    'Age':[25,30,27],\n",
    "    'Gender':['Female','Male','Female'],\n",
    "        }))"
   ]
  },
  {
   "cell_type": "markdown",
   "id": "f766057a-1611-4e8c-bde1-fae193ed682e",
   "metadata": {},
   "source": [
    "Q5. What are some common functions you can use to manipulate data in a Pandas DataFrame? Can\n",
    "you give an example of when you might use one of these functions?"
   ]
  },
  {
   "cell_type": "code",
   "execution_count": 28,
   "id": "5a0c6d39-a6c9-4b7f-b52b-19822c079894",
   "metadata": {},
   "outputs": [],
   "source": [
    "df=pd.read_csv(\"readalgerian.csv\",header=1)"
   ]
  },
  {
   "cell_type": "code",
   "execution_count": 30,
   "id": "1e891c84-2780-4511-9bc8-748c7a5c51c4",
   "metadata": {},
   "outputs": [
    {
     "name": "stdout",
     "output_type": "stream",
     "text": [
      "<class 'pandas.core.frame.DataFrame'>\n",
      "RangeIndex: 246 entries, 0 to 245\n",
      "Data columns (total 14 columns):\n",
      " #   Column       Non-Null Count  Dtype \n",
      "---  ------       --------------  ----- \n",
      " 0   day          246 non-null    object\n",
      " 1   month        245 non-null    object\n",
      " 2   year         245 non-null    object\n",
      " 3   Temperature  245 non-null    object\n",
      " 4    RH          245 non-null    object\n",
      " 5    Ws          245 non-null    object\n",
      " 6   Rain         245 non-null    object\n",
      " 7   FFMC         245 non-null    object\n",
      " 8   DMC          245 non-null    object\n",
      " 9   DC           245 non-null    object\n",
      " 10  ISI          245 non-null    object\n",
      " 11  BUI          245 non-null    object\n",
      " 12  FWI          245 non-null    object\n",
      " 13  Classes      244 non-null    object\n",
      "dtypes: object(14)\n",
      "memory usage: 27.0+ KB\n"
     ]
    }
   ],
   "source": [
    "##use to get first 5 records\n",
    "df.head()\n",
    "##use to get last 5 records\n",
    "df.tail()\n",
    "## to get info\n",
    "df.info()\n"
   ]
  },
  {
   "cell_type": "markdown",
   "id": "0cd4a68c-a049-4e6c-b13b-013bad4527b4",
   "metadata": {},
   "source": [
    "Q6. Which of the following is mutable in nature Series, DataFrame, Panel?"
   ]
  },
  {
   "cell_type": "code",
   "execution_count": 36,
   "id": "86c84d2d-a94a-4e86-810e-510b99038854",
   "metadata": {},
   "outputs": [],
   "source": [
    "## series==mutable\n",
    "## DataFrame=mutable\n",
    "##  Panel=mutable"
   ]
  },
  {
   "cell_type": "markdown",
   "id": "98202719-c182-4e69-8b20-42eb0ed794ea",
   "metadata": {},
   "source": [
    "Create a DataFrame using multiple Series. Explain with an example."
   ]
  },
  {
   "cell_type": "code",
   "execution_count": null,
   "id": "9a04a83d-c783-4476-8bd5-81370b13f2c3",
   "metadata": {},
   "outputs": [],
   "source": [
    "Name=['Alice','Bob','Claire']\n",
    "ns=pd.Series(Name)\n",
    "age=[25,30,27]\n",
    "nas=pd.Series(age)\n"
   ]
  }
 ],
 "metadata": {
  "kernelspec": {
   "display_name": "Python 3 (ipykernel)",
   "language": "python",
   "name": "python3"
  },
  "language_info": {
   "codemirror_mode": {
    "name": "ipython",
    "version": 3
   },
   "file_extension": ".py",
   "mimetype": "text/x-python",
   "name": "python",
   "nbconvert_exporter": "python",
   "pygments_lexer": "ipython3",
   "version": "3.10.8"
  }
 },
 "nbformat": 4,
 "nbformat_minor": 5
}
